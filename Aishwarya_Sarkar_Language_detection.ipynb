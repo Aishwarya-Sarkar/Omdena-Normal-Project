{
  "nbformat": 4,
  "nbformat_minor": 0,
  "metadata": {
    "colab": {
      "name": "Aishwarya_Sarkar_Language detection.ipynb",
      "provenance": [],
      "collapsed_sections": []
    },
    "kernelspec": {
      "name": "python3",
      "display_name": "Python 3"
    },
    "language_info": {
      "name": "python"
    }
  },
  "cells": [
    {
      "cell_type": "code",
      "execution_count": 1,
      "metadata": {
        "colab": {
          "base_uri": "https://localhost:8080/"
        },
        "id": "sC-8zFTXKkSh",
        "outputId": "b9544051-6369-4967-a864-a16d5719e65d"
      },
      "outputs": [
        {
          "output_type": "stream",
          "name": "stdout",
          "text": [
            "Mounted at /content/gdrive\n"
          ]
        }
      ],
      "source": [
        "from google.colab import drive\n",
        "drive.mount(\"/content/gdrive\")"
      ]
    },
    {
      "cell_type": "code",
      "source": [
        "pip install spacy_langdetect"
      ],
      "metadata": {
        "colab": {
          "base_uri": "https://localhost:8080/"
        },
        "id": "7Zj9zhW9Kqwk",
        "outputId": "e11fed7a-e81c-426f-8cc7-c61191706baa"
      },
      "execution_count": 3,
      "outputs": [
        {
          "output_type": "stream",
          "name": "stdout",
          "text": [
            "Collecting spacy_langdetect\n",
            "  Downloading spacy_langdetect-0.1.2-py3-none-any.whl (5.0 kB)\n",
            "Collecting langdetect==1.0.7\n",
            "  Downloading langdetect-1.0.7.zip (998 kB)\n",
            "\u001b[K     |████████████████████████████████| 998 kB 2.7 MB/s \n",
            "\u001b[?25hRequirement already satisfied: pytest in /usr/local/lib/python3.7/dist-packages (from spacy_langdetect) (3.6.4)\n",
            "Requirement already satisfied: six in /usr/local/lib/python3.7/dist-packages (from langdetect==1.0.7->spacy_langdetect) (1.15.0)\n",
            "Requirement already satisfied: setuptools in /usr/local/lib/python3.7/dist-packages (from pytest->spacy_langdetect) (57.4.0)\n",
            "Requirement already satisfied: attrs>=17.4.0 in /usr/local/lib/python3.7/dist-packages (from pytest->spacy_langdetect) (21.4.0)\n",
            "Requirement already satisfied: pluggy<0.8,>=0.5 in /usr/local/lib/python3.7/dist-packages (from pytest->spacy_langdetect) (0.7.1)\n",
            "Requirement already satisfied: py>=1.5.0 in /usr/local/lib/python3.7/dist-packages (from pytest->spacy_langdetect) (1.11.0)\n",
            "Requirement already satisfied: atomicwrites>=1.0 in /usr/local/lib/python3.7/dist-packages (from pytest->spacy_langdetect) (1.4.0)\n",
            "Requirement already satisfied: more-itertools>=4.0.0 in /usr/local/lib/python3.7/dist-packages (from pytest->spacy_langdetect) (8.12.0)\n",
            "Building wheels for collected packages: langdetect\n",
            "  Building wheel for langdetect (setup.py) ... \u001b[?25l\u001b[?25hdone\n",
            "  Created wheel for langdetect: filename=langdetect-1.0.7-py3-none-any.whl size=993431 sha256=a26abc6f2ecb77bacdcf198e39b989a02db140e17658871bd1d69027432eb3ee\n",
            "  Stored in directory: /root/.cache/pip/wheels/89/79/3b/9885ae7f4308f73c514f96d8574d40d7d8173a27731b674013\n",
            "Successfully built langdetect\n",
            "Installing collected packages: langdetect, spacy-langdetect\n",
            "Successfully installed langdetect-1.0.7 spacy-langdetect-0.1.2\n"
          ]
        }
      ]
    },
    {
      "cell_type": "code",
      "source": [
        "pip install pycld2"
      ],
      "metadata": {
        "colab": {
          "base_uri": "https://localhost:8080/"
        },
        "id": "oqJTtaiyM52v",
        "outputId": "89fc6d1e-2c1b-4f55-a5d8-231e8a77a23f"
      },
      "execution_count": 4,
      "outputs": [
        {
          "output_type": "stream",
          "name": "stdout",
          "text": [
            "Collecting pycld2\n",
            "  Downloading pycld2-0.41.tar.gz (41.4 MB)\n",
            "\u001b[K     |████████████████████████████████| 41.4 MB 1.1 MB/s \n",
            "\u001b[?25hBuilding wheels for collected packages: pycld2\n",
            "  Building wheel for pycld2 (setup.py) ... \u001b[?25l\u001b[?25hdone\n",
            "  Created wheel for pycld2: filename=pycld2-0.41-cp37-cp37m-linux_x86_64.whl size=9834142 sha256=3959f1518be8b643d01680ed498ad3f381fa572bd8aa2c6ea3960c6bcde07b71\n",
            "  Stored in directory: /root/.cache/pip/wheels/ed/e4/58/ed2e9f43c07d617cc81fe7aff0fc6e42b16c9cf6afe960b614\n",
            "Successfully built pycld2\n",
            "Installing collected packages: pycld2\n",
            "Successfully installed pycld2-0.41\n"
          ]
        }
      ]
    },
    {
      "cell_type": "code",
      "source": [
        "import pandas as pd\n",
        "import re\n",
        "import re\n",
        "import string\n",
        "import numpy as np\n",
        "import pandas as pd\n",
        "import nltk\n",
        "from nltk.tokenize import word_tokenize\n",
        "from nltk.tokenize import sent_tokenize\n",
        "from nltk.stem import WordNetLemmatizer\n",
        "from nltk.corpus import stopwords\n",
        "\n",
        "nltk.download('stopwords')\n",
        "nltk.download('punkt')\n",
        "nltk.download('wordnet')"
      ],
      "metadata": {
        "colab": {
          "base_uri": "https://localhost:8080/"
        },
        "id": "5tAgxQrCNEne",
        "outputId": "e617e8df-d45a-4e0e-e545-02815645b33a"
      },
      "execution_count": 5,
      "outputs": [
        {
          "output_type": "stream",
          "name": "stdout",
          "text": [
            "[nltk_data] Downloading package stopwords to /root/nltk_data...\n",
            "[nltk_data]   Unzipping corpora/stopwords.zip.\n",
            "[nltk_data] Downloading package punkt to /root/nltk_data...\n",
            "[nltk_data]   Unzipping tokenizers/punkt.zip.\n",
            "[nltk_data] Downloading package wordnet to /root/nltk_data...\n",
            "[nltk_data]   Unzipping corpora/wordnet.zip.\n"
          ]
        },
        {
          "output_type": "execute_result",
          "data": {
            "text/plain": [
              "True"
            ]
          },
          "metadata": {},
          "execution_count": 5
        }
      ]
    },
    {
      "cell_type": "code",
      "source": [
        "# Individual cleaning functions\n",
        "def remove_web_links(text):\n",
        "    text = re.sub(r'http://www.\\w+.org/','', text)\n",
        "    text = re.sub(r'http://www.([\\w\\S]+).org/\\w+\\W\\w+','',text)\n",
        "    text = re.sub(r'https://\\w+.\\w+/\\d+.\\d+/\\w\\d+\\W\\w+','',text)\n",
        "    text = re.sub(r'https://\\w+.\\w+/\\d+.\\d+/\\w\\d+\\W\\w+','',text)\n",
        "    text = re.sub(r'Figure\\s\\d:','', text)\n",
        "    text = re.sub(r'\\Wwww.\\w+\\W\\w+\\W','',text)\n",
        "    text = re.sub(\"@[A-Za-z0-9]+\", \"\", text)\n",
        "    text = re.sub(r'www.\\w+','',text)\n",
        "\n",
        "    return text\n",
        "\n",
        "def remove_emojis(text):\n",
        "    regrex_pattern = re.compile(pattern = \"[\"\n",
        "        u\"\\U0001F600-\\U0001F64F\"  # emoticons\n",
        "        u\"\\U0001F300-\\U0001F5FF\"  # symbols & pictographs\n",
        "        u\"\\U0001F680-\\U0001F6FF\"  # transport & map symbols\n",
        "        u\"\\U0001F1E0-\\U0001F1FF\"  # flags (iOS)\n",
        "        u\"\\U00002500-\\U00002BEF\"  # chinese char\n",
        "        u\"\\U00002702-\\U000027B0\"\n",
        "        u\"\\U00002702-\\U000027B0\"\n",
        "        u\"\\U000024C2-\\U0001F251\"\n",
        "        u\"\\U0001f926-\\U0001f937\"\n",
        "        u\"\\U00010000-\\U0010ffff\"\n",
        "        u\"\\u2640-\\u2642\" \n",
        "        u\"\\u2600-\\u2B55\"\n",
        "        u\"\\u200d\"\n",
        "        u\"\\u23cf\"\n",
        "        u\"\\u23e9\"\n",
        "        u\"\\u231a\"\n",
        "        u\"\\ufe0f\"  # dingbats\n",
        "        u\"\\u3030\"  # flags (iOS)\n",
        "                           \"]+\", flags = re.UNICODE)\n",
        "    text = regrex_pattern.sub('', text)\n",
        "\n",
        "    return text\n",
        "\n",
        "def remove_spaces(text):\n",
        "    text = re.sub(r'\\n',\"\",text)\n",
        "\n",
        "    return text\n",
        "\n",
        "\n",
        "def remove_stopwords(text):\n",
        "    stop_words=set(stopwords.words('english'))\n",
        "    words=word_tokenize(text)\n",
        "    sentence=[w for w in words if w not in stop_words]\n",
        "    return \" \".join(sentence)\n",
        "\n",
        "def lemmatize_text(text):\n",
        "    wordlist=[]\n",
        "    lemmatizer = WordNetLemmatizer()\n",
        "    sentences=sent_tokenize(text)\n",
        "    for sentence in sentences:\n",
        "        words=word_tokenize(sentence)\n",
        "        for word in words:\n",
        "            wordlist.append(lemmatizer.lemmatize(word))\n",
        "    return ' '.join(wordlist)\n",
        "\n",
        "def lowercase_text(text):\n",
        "    return text.lower()\n",
        "\n",
        "\n",
        "def remove_punctuations(text):\n",
        "    additional_punctuations = ['’', '…'] # punctuations not in string.punctuation  \n",
        "    for punctuation in string.punctuation:\n",
        "        text = text.replace(punctuation, '')\n",
        "  \n",
        "    for punctuation in additional_punctuations:\n",
        "        text = text.replace(punctuation, '')\n",
        "    \n",
        "    return text\n",
        "\n",
        "def remove_numbers(text):\n",
        "    if text is not None:\n",
        "        text = text.replace(r'^\\d+\\.\\s+','')\n",
        "  \n",
        "    text = re.sub(\"[0-9]\", '', text)\n",
        "    return text"
      ],
      "metadata": {
        "id": "XvVbwSrtNFF1"
      },
      "execution_count": 6,
      "outputs": []
    },
    {
      "cell_type": "code",
      "source": [
        "def clean_and_preprocess_data(text, lowercase=True, clean_stopwords=True, clean_punctuations=True, clean_links=True, \n",
        "                              clean_emojis=True, clean_spaces=True, clean_numbers=True,  lemmatize=True):\n",
        "  \n",
        "    if clean_stopwords == True:\n",
        "        text = remove_stopwords(text)\n",
        "\n",
        "    if clean_punctuations == True:\n",
        "        text = remove_punctuations(text)\n",
        "  \n",
        "    if clean_links == True:\n",
        "        text = remove_web_links(text)\n",
        "  \n",
        "    if clean_emojis == True:\n",
        "        text = remove_emojis(text)\n",
        "  \n",
        "    if clean_spaces == True:\n",
        "        text = remove_spaces(text)\n",
        "  \n",
        "    if clean_numbers == True:\n",
        "        text = remove_numbers(text)\n",
        "  \n",
        "    if lemmatize == True:\n",
        "        text = lemmatize_text(text)\n",
        "  \n",
        "    if lowercase == True:\n",
        "        return text.lower()\n",
        "\n",
        "    return text"
      ],
      "metadata": {
        "id": "P233xtiENP_S"
      },
      "execution_count": 13,
      "outputs": []
    },
    {
      "cell_type": "code",
      "source": [
        "df2 = pd.read_csv('/content/gdrive/My Drive/Omdena_Normal/full_tag_extracted_results.csv')"
      ],
      "metadata": {
        "id": "fJZ_rx5adRcb"
      },
      "execution_count": 7,
      "outputs": []
    },
    {
      "cell_type": "code",
      "source": [
        "pd.set_option('max_colwidth', None)\n",
        "df2.head()"
      ],
      "metadata": {
        "id": "TM94JVx0dah3"
      },
      "execution_count": null,
      "outputs": []
    },
    {
      "cell_type": "code",
      "source": [
        "#create the dataset for 'UK' and the fashion industry\n",
        "fashion_data= df2[(df2['industry'] == 'fashion') & (df2['country']=='UK')]\n",
        "len(fashion_data)"
      ],
      "metadata": {
        "colab": {
          "base_uri": "https://localhost:8080/"
        },
        "id": "uHqZe04udciI",
        "outputId": "f8fc9b5a-efac-464d-cd30-b44ce55fbf51"
      },
      "execution_count": 32,
      "outputs": [
        {
          "output_type": "execute_result",
          "data": {
            "text/plain": [
              "6988"
            ]
          },
          "metadata": {},
          "execution_count": 32
        }
      ]
    },
    {
      "cell_type": "code",
      "source": [
        "%time \n",
        "#remove emojis and extra spaces from the data\n",
        "fashion_data['paragraph']=fashion_data['paragraph'].apply(lambda x: clean_and_preprocess_data(x,lowercase=False, clean_stopwords=False, clean_punctuations=False, clean_links=False, \n",
        "                              clean_emojis=True, clean_spaces=True, clean_numbers=False,  lemmatize=False))\n",
        "\n",
        "#remove new line and \\t from the text data\n",
        "fashion_data['paragraph']=fashion_data['paragraph'].replace('\\\\n', ' ').replace('\\n', ' ').replace('\\t',' ').replace('\\\\', ' ').replace('. com', '.com')"
      ],
      "metadata": {
        "colab": {
          "base_uri": "https://localhost:8080/"
        },
        "id": "G2G7Kit4dhZz",
        "outputId": "0da7ed66-3fde-4944-90ae-ec6aeb0537b0"
      },
      "execution_count": 33,
      "outputs": [
        {
          "output_type": "stream",
          "name": "stdout",
          "text": [
            "CPU times: user 4 µs, sys: 0 ns, total: 4 µs\n",
            "Wall time: 8.82 µs\n"
          ]
        },
        {
          "output_type": "stream",
          "name": "stderr",
          "text": [
            "/usr/local/lib/python3.7/dist-packages/ipykernel_launcher.py:3: SettingWithCopyWarning: \n",
            "A value is trying to be set on a copy of a slice from a DataFrame.\n",
            "Try using .loc[row_indexer,col_indexer] = value instead\n",
            "\n",
            "See the caveats in the documentation: https://pandas.pydata.org/pandas-docs/stable/user_guide/indexing.html#returning-a-view-versus-a-copy\n",
            "  This is separate from the ipykernel package so we can avoid doing imports until\n",
            "/usr/local/lib/python3.7/dist-packages/ipykernel_launcher.py:7: SettingWithCopyWarning: \n",
            "A value is trying to be set on a copy of a slice from a DataFrame.\n",
            "Try using .loc[row_indexer,col_indexer] = value instead\n",
            "\n",
            "See the caveats in the documentation: https://pandas.pydata.org/pandas-docs/stable/user_guide/indexing.html#returning-a-view-versus-a-copy\n",
            "  import sys\n"
          ]
        }
      ]
    },
    {
      "cell_type": "code",
      "source": [
        "fashion_data.head()"
      ],
      "metadata": {
        "colab": {
          "base_uri": "https://localhost:8080/",
          "height": 1000
        },
        "id": "TGXJFK02N2Tt",
        "outputId": "c92ac1ee-ea7a-4839-b385-e24554389c0f"
      },
      "execution_count": 15,
      "outputs": [
        {
          "output_type": "execute_result",
          "data": {
            "text/plain": [
              "       Unnamed: 0                                         id  \\\n",
              "99649       99649  cc559215-afa8-5109-8cda-dffed55feeac.json   \n",
              "99650       99650  cc559215-afa8-5109-8cda-dffed55feeac.json   \n",
              "99651       99651  cc559215-afa8-5109-8cda-dffed55feeac.json   \n",
              "99652       99652  cc559215-afa8-5109-8cda-dffed55feeac.json   \n",
              "99653       99653  cc559215-afa8-5109-8cda-dffed55feeac.json   \n",
              "\n",
              "                                  resourceLink  \\\n",
              "99649  http://oro.open.ac.uk/77120/3/77120.pdf   \n",
              "99650  http://oro.open.ac.uk/77120/3/77120.pdf   \n",
              "99651  http://oro.open.ac.uk/77120/3/77120.pdf   \n",
              "99652  http://oro.open.ac.uk/77120/3/77120.pdf   \n",
              "99653  http://oro.open.ac.uk/77120/3/77120.pdf   \n",
              "\n",
              "                                                                                           tags  \\\n",
              "99649  {'external': ['test'], 'benefit': 'sustainable', 'industry': 'fashion', 'country': 'UK'}   \n",
              "99650  {'external': ['test'], 'benefit': 'sustainable', 'industry': 'fashion', 'country': 'UK'}   \n",
              "99651  {'external': ['test'], 'benefit': 'sustainable', 'industry': 'fashion', 'country': 'UK'}   \n",
              "99652  {'external': ['test'], 'benefit': 'sustainable', 'industry': 'fashion', 'country': 'UK'}   \n",
              "99653  {'external': ['test'], 'benefit': 'sustainable', 'industry': 'fashion', 'country': 'UK'}   \n",
              "\n",
              "                                                                                                                                                                                                                                                                                                                                                                                                                                                                                                                                                                                                                                                                                                                                                                                                                                                                                                                                                                                                                                                                                                                           paragraph  \\\n",
              "99649                                                                                                                                                                                                                                                                                                                                                                                                                                                                                                                                                                                                                                                                                                                                                                                      Black, sandy; Williams, Dilys; Rocamora, Agnes; Burcikova, Mila; Lyon, Fergus; Werner, Andrea; Vickers, Ian;Elf, Patrick; Eckert, Claudia and Crommentuijn-Marsh, Philippa (2021). Fostering Sustainable Practices? The case ofmicro and small designer fashion enterprises. In: Sustainable Innovation 2021, 15-21 Mar 2021, Farnborough   \n",
              "99650                                                                                                                                                                                                                                                                                                                                                                                                                                                                                                                      Copyright and Moral Rights for the articles on this site are retained by the individual authors and/or other copyrightowners. For more information on Open Research Online’s data policy on reuse of materials please consult the policiesFostering Sustainable Practices? The case of micro and small Professor of Fashion & Textile Design and Technology Centre for Sustainable Fashion, University of the Arts London, London College of Fashion Director, Centre for Sustainable Fashion and Professor of Fashion Design for Sustainability University of the Arts London, London College of Fashion   \n",
              "99651                                                                                                                                                                                                                                                                                                                                                                                                          of the UK’s creative industries, and widely recognized for its fashion influence beyond the UK. This paper presents findings from the Rethinking Fashion Design Entrepreneurship: Fostering Sustainable Practices project, working with innovative fashion micro and small enterprises (MSEs) in the UK. With their strong sense of values and purpose, contributing to community alongside maintaining financial viability, these MSEs provide examples of best practice to foster sustainability. Whilst the fashion industry has been severely affected by the Covid-19 pandemic, our investigation revealed some fashion design entrepreneurs showing exceptional resilience, despite facing financial challenges   \n",
              "99652  Such small and agile enterprises exemplify a redefinition of what fashion business is and can be in future, presenting viable pathways to recovery post-pandemic, and building towards a sustainable The pace of fashion cycles has increased enormously over recent decades, with the advent of fast and faster fashion since the 1990s; this high throughput and high waste model is unsustainable and no longer acceptable in the context of depleted and finite planetary resources, exacerbated by the current climate emergency (Steffen et al 2015). The transition to sustainability is now an imperative Development Goals and accelerated by the 2020 Coronavirus pandemic2. Although pioneers of sustainable fashion have been active since the 1980s, the industry as a whole has been slow to embed sustainability principles, with initiatives in evidence from the early 21st century (Fletcher 2008, 1 At the 2015 Paris Climate Conference (Conference of the Parties COP21)  189 signatories agreed to limit global warming to 1.5°-2°  and publish targets for reduction of their greenhouse gas emissions   \n",
              "99653                                                                                                                                                                                                                                                                                                                                                                                                                                                                                                  2 “The crisis is a catalyst that will shock the industry into change – now is the time to get ready for a post-coronavirus world. … The pandemic will bring values around sustainability into sharp focus, intensifying discussions and further polarising views around materialism, over-consumption and irresponsible business practices.” Business of Fashion & McKinsey Co. (April 2020). The State of Fashion 2020: Coronavirus Update,  pp. 8 + 18) Fletcher & Tham 2012, Black 2008, 2012). Calls for a long-overdue reset of the fashion industry system have increased dramatically in response the Covid-19 crisis3   \n",
              "\n",
              "       external      benefit industry country  \n",
              "99649  ['test']  sustainable  fashion      UK  \n",
              "99650  ['test']  sustainable  fashion      UK  \n",
              "99651  ['test']  sustainable  fashion      UK  \n",
              "99652  ['test']  sustainable  fashion      UK  \n",
              "99653  ['test']  sustainable  fashion      UK  "
            ],
            "text/html": [
              "\n",
              "  <div id=\"df-de5dda62-c429-47e8-b294-c3ced1c2a3c3\">\n",
              "    <div class=\"colab-df-container\">\n",
              "      <div>\n",
              "<style scoped>\n",
              "    .dataframe tbody tr th:only-of-type {\n",
              "        vertical-align: middle;\n",
              "    }\n",
              "\n",
              "    .dataframe tbody tr th {\n",
              "        vertical-align: top;\n",
              "    }\n",
              "\n",
              "    .dataframe thead th {\n",
              "        text-align: right;\n",
              "    }\n",
              "</style>\n",
              "<table border=\"1\" class=\"dataframe\">\n",
              "  <thead>\n",
              "    <tr style=\"text-align: right;\">\n",
              "      <th></th>\n",
              "      <th>Unnamed: 0</th>\n",
              "      <th>id</th>\n",
              "      <th>resourceLink</th>\n",
              "      <th>tags</th>\n",
              "      <th>paragraph</th>\n",
              "      <th>external</th>\n",
              "      <th>benefit</th>\n",
              "      <th>industry</th>\n",
              "      <th>country</th>\n",
              "    </tr>\n",
              "  </thead>\n",
              "  <tbody>\n",
              "    <tr>\n",
              "      <th>99649</th>\n",
              "      <td>99649</td>\n",
              "      <td>cc559215-afa8-5109-8cda-dffed55feeac.json</td>\n",
              "      <td>http://oro.open.ac.uk/77120/3/77120.pdf</td>\n",
              "      <td>{'external': ['test'], 'benefit': 'sustainable', 'industry': 'fashion', 'country': 'UK'}</td>\n",
              "      <td>Black, sandy; Williams, Dilys; Rocamora, Agnes; Burcikova, Mila; Lyon, Fergus; Werner, Andrea; Vickers, Ian;Elf, Patrick; Eckert, Claudia and Crommentuijn-Marsh, Philippa (2021). Fostering Sustainable Practices? The case ofmicro and small designer fashion enterprises. In: Sustainable Innovation 2021, 15-21 Mar 2021, Farnborough</td>\n",
              "      <td>['test']</td>\n",
              "      <td>sustainable</td>\n",
              "      <td>fashion</td>\n",
              "      <td>UK</td>\n",
              "    </tr>\n",
              "    <tr>\n",
              "      <th>99650</th>\n",
              "      <td>99650</td>\n",
              "      <td>cc559215-afa8-5109-8cda-dffed55feeac.json</td>\n",
              "      <td>http://oro.open.ac.uk/77120/3/77120.pdf</td>\n",
              "      <td>{'external': ['test'], 'benefit': 'sustainable', 'industry': 'fashion', 'country': 'UK'}</td>\n",
              "      <td>Copyright and Moral Rights for the articles on this site are retained by the individual authors and/or other copyrightowners. For more information on Open Research Online’s data policy on reuse of materials please consult the policiesFostering Sustainable Practices? The case of micro and small Professor of Fashion &amp; Textile Design and Technology Centre for Sustainable Fashion, University of the Arts London, London College of Fashion Director, Centre for Sustainable Fashion and Professor of Fashion Design for Sustainability University of the Arts London, London College of Fashion</td>\n",
              "      <td>['test']</td>\n",
              "      <td>sustainable</td>\n",
              "      <td>fashion</td>\n",
              "      <td>UK</td>\n",
              "    </tr>\n",
              "    <tr>\n",
              "      <th>99651</th>\n",
              "      <td>99651</td>\n",
              "      <td>cc559215-afa8-5109-8cda-dffed55feeac.json</td>\n",
              "      <td>http://oro.open.ac.uk/77120/3/77120.pdf</td>\n",
              "      <td>{'external': ['test'], 'benefit': 'sustainable', 'industry': 'fashion', 'country': 'UK'}</td>\n",
              "      <td>of the UK’s creative industries, and widely recognized for its fashion influence beyond the UK. This paper presents findings from the Rethinking Fashion Design Entrepreneurship: Fostering Sustainable Practices project, working with innovative fashion micro and small enterprises (MSEs) in the UK. With their strong sense of values and purpose, contributing to community alongside maintaining financial viability, these MSEs provide examples of best practice to foster sustainability. Whilst the fashion industry has been severely affected by the Covid-19 pandemic, our investigation revealed some fashion design entrepreneurs showing exceptional resilience, despite facing financial challenges</td>\n",
              "      <td>['test']</td>\n",
              "      <td>sustainable</td>\n",
              "      <td>fashion</td>\n",
              "      <td>UK</td>\n",
              "    </tr>\n",
              "    <tr>\n",
              "      <th>99652</th>\n",
              "      <td>99652</td>\n",
              "      <td>cc559215-afa8-5109-8cda-dffed55feeac.json</td>\n",
              "      <td>http://oro.open.ac.uk/77120/3/77120.pdf</td>\n",
              "      <td>{'external': ['test'], 'benefit': 'sustainable', 'industry': 'fashion', 'country': 'UK'}</td>\n",
              "      <td>Such small and agile enterprises exemplify a redefinition of what fashion business is and can be in future, presenting viable pathways to recovery post-pandemic, and building towards a sustainable The pace of fashion cycles has increased enormously over recent decades, with the advent of fast and faster fashion since the 1990s; this high throughput and high waste model is unsustainable and no longer acceptable in the context of depleted and finite planetary resources, exacerbated by the current climate emergency (Steffen et al 2015). The transition to sustainability is now an imperative Development Goals and accelerated by the 2020 Coronavirus pandemic2. Although pioneers of sustainable fashion have been active since the 1980s, the industry as a whole has been slow to embed sustainability principles, with initiatives in evidence from the early 21st century (Fletcher 2008, 1 At the 2015 Paris Climate Conference (Conference of the Parties COP21)  189 signatories agreed to limit global warming to 1.5°-2°  and publish targets for reduction of their greenhouse gas emissions</td>\n",
              "      <td>['test']</td>\n",
              "      <td>sustainable</td>\n",
              "      <td>fashion</td>\n",
              "      <td>UK</td>\n",
              "    </tr>\n",
              "    <tr>\n",
              "      <th>99653</th>\n",
              "      <td>99653</td>\n",
              "      <td>cc559215-afa8-5109-8cda-dffed55feeac.json</td>\n",
              "      <td>http://oro.open.ac.uk/77120/3/77120.pdf</td>\n",
              "      <td>{'external': ['test'], 'benefit': 'sustainable', 'industry': 'fashion', 'country': 'UK'}</td>\n",
              "      <td>2 “The crisis is a catalyst that will shock the industry into change – now is the time to get ready for a post-coronavirus world. … The pandemic will bring values around sustainability into sharp focus, intensifying discussions and further polarising views around materialism, over-consumption and irresponsible business practices.” Business of Fashion &amp; McKinsey Co. (April 2020). The State of Fashion 2020: Coronavirus Update,  pp. 8 + 18) Fletcher &amp; Tham 2012, Black 2008, 2012). Calls for a long-overdue reset of the fashion industry system have increased dramatically in response the Covid-19 crisis3</td>\n",
              "      <td>['test']</td>\n",
              "      <td>sustainable</td>\n",
              "      <td>fashion</td>\n",
              "      <td>UK</td>\n",
              "    </tr>\n",
              "  </tbody>\n",
              "</table>\n",
              "</div>\n",
              "      <button class=\"colab-df-convert\" onclick=\"convertToInteractive('df-de5dda62-c429-47e8-b294-c3ced1c2a3c3')\"\n",
              "              title=\"Convert this dataframe to an interactive table.\"\n",
              "              style=\"display:none;\">\n",
              "        \n",
              "  <svg xmlns=\"http://www.w3.org/2000/svg\" height=\"24px\"viewBox=\"0 0 24 24\"\n",
              "       width=\"24px\">\n",
              "    <path d=\"M0 0h24v24H0V0z\" fill=\"none\"/>\n",
              "    <path d=\"M18.56 5.44l.94 2.06.94-2.06 2.06-.94-2.06-.94-.94-2.06-.94 2.06-2.06.94zm-11 1L8.5 8.5l.94-2.06 2.06-.94-2.06-.94L8.5 2.5l-.94 2.06-2.06.94zm10 10l.94 2.06.94-2.06 2.06-.94-2.06-.94-.94-2.06-.94 2.06-2.06.94z\"/><path d=\"M17.41 7.96l-1.37-1.37c-.4-.4-.92-.59-1.43-.59-.52 0-1.04.2-1.43.59L10.3 9.45l-7.72 7.72c-.78.78-.78 2.05 0 2.83L4 21.41c.39.39.9.59 1.41.59.51 0 1.02-.2 1.41-.59l7.78-7.78 2.81-2.81c.8-.78.8-2.07 0-2.86zM5.41 20L4 18.59l7.72-7.72 1.47 1.35L5.41 20z\"/>\n",
              "  </svg>\n",
              "      </button>\n",
              "      \n",
              "  <style>\n",
              "    .colab-df-container {\n",
              "      display:flex;\n",
              "      flex-wrap:wrap;\n",
              "      gap: 12px;\n",
              "    }\n",
              "\n",
              "    .colab-df-convert {\n",
              "      background-color: #E8F0FE;\n",
              "      border: none;\n",
              "      border-radius: 50%;\n",
              "      cursor: pointer;\n",
              "      display: none;\n",
              "      fill: #1967D2;\n",
              "      height: 32px;\n",
              "      padding: 0 0 0 0;\n",
              "      width: 32px;\n",
              "    }\n",
              "\n",
              "    .colab-df-convert:hover {\n",
              "      background-color: #E2EBFA;\n",
              "      box-shadow: 0px 1px 2px rgba(60, 64, 67, 0.3), 0px 1px 3px 1px rgba(60, 64, 67, 0.15);\n",
              "      fill: #174EA6;\n",
              "    }\n",
              "\n",
              "    [theme=dark] .colab-df-convert {\n",
              "      background-color: #3B4455;\n",
              "      fill: #D2E3FC;\n",
              "    }\n",
              "\n",
              "    [theme=dark] .colab-df-convert:hover {\n",
              "      background-color: #434B5C;\n",
              "      box-shadow: 0px 1px 3px 1px rgba(0, 0, 0, 0.15);\n",
              "      filter: drop-shadow(0px 1px 2px rgba(0, 0, 0, 0.3));\n",
              "      fill: #FFFFFF;\n",
              "    }\n",
              "  </style>\n",
              "\n",
              "      <script>\n",
              "        const buttonEl =\n",
              "          document.querySelector('#df-de5dda62-c429-47e8-b294-c3ced1c2a3c3 button.colab-df-convert');\n",
              "        buttonEl.style.display =\n",
              "          google.colab.kernel.accessAllowed ? 'block' : 'none';\n",
              "\n",
              "        async function convertToInteractive(key) {\n",
              "          const element = document.querySelector('#df-de5dda62-c429-47e8-b294-c3ced1c2a3c3');\n",
              "          const dataTable =\n",
              "            await google.colab.kernel.invokeFunction('convertToInteractive',\n",
              "                                                     [key], {});\n",
              "          if (!dataTable) return;\n",
              "\n",
              "          const docLinkHtml = 'Like what you see? Visit the ' +\n",
              "            '<a target=\"_blank\" href=https://colab.research.google.com/notebooks/data_table.ipynb>data table notebook</a>'\n",
              "            + ' to learn more about interactive tables.';\n",
              "          element.innerHTML = '';\n",
              "          dataTable['output_type'] = 'display_data';\n",
              "          await google.colab.output.renderOutput(dataTable, element);\n",
              "          const docLink = document.createElement('div');\n",
              "          docLink.innerHTML = docLinkHtml;\n",
              "          element.appendChild(docLink);\n",
              "        }\n",
              "      </script>\n",
              "    </div>\n",
              "  </div>\n",
              "  "
            ]
          },
          "metadata": {},
          "execution_count": 15
        }
      ]
    },
    {
      "cell_type": "markdown",
      "source": [
        "**Language Detection**\n",
        "\n",
        "First we detect the main language for each paragraph\n",
        "There are 2 types:\n",
        "\n",
        "1. Purely other languages -> indexes are stored in other_lang_index\n",
        "\n",
        "2. Mixed Language - where main language is english -> indexes are stored as keys in low_score_index"
      ],
      "metadata": {
        "id": "U0WIZ5VLOQ9k"
      }
    },
    {
      "cell_type": "code",
      "source": [
        "import spacy\n",
        "from spacy.language import Language\n",
        "from spacy_langdetect import LanguageDetector\n",
        "\n",
        "low_score_index = {}\n",
        "other_lang_index = []\n",
        "nlp = spacy.load(\"en\")\n",
        "\n",
        "nlp.add_pipe(LanguageDetector(), name=\"language_detector\", last=True)\n",
        "for i in range(0,len(fashion_data)):\n",
        "    text = fashion_data.iloc[i,4]\n",
        "    doc = nlp(text)._.language\n",
        "    if doc['language']=='en':\n",
        "        if doc['score']<0.99999:\n",
        "            low_score_index[i] = doc['language']\n",
        "    elif doc['language']!='en':\n",
        "        other_lang_index.append(i)\n",
        "    if i%500==0:\n",
        "      print(i)\n",
        "      print('low_score_index',low_score_index)\n",
        "      print('other_lang_index',other_lang_index)"
      ],
      "metadata": {
        "colab": {
          "base_uri": "https://localhost:8080/"
        },
        "id": "BZAZop_EOBet",
        "outputId": "7fcdab70-8132-4f88-a7d7-9da565170256"
      },
      "execution_count": 34,
      "outputs": [
        {
          "output_type": "stream",
          "name": "stdout",
          "text": [
            "0\n",
            "low_score_index {}\n",
            "other_lang_index []\n",
            "500\n",
            "low_score_index {}\n",
            "other_lang_index []\n",
            "1000\n",
            "low_score_index {985: 'en', 986: 'en'}\n",
            "other_lang_index [825]\n",
            "1500\n",
            "low_score_index {985: 'en', 986: 'en'}\n",
            "other_lang_index [825]\n",
            "2000\n",
            "low_score_index {985: 'en', 986: 'en', 1509: 'en', 1849: 'en'}\n",
            "other_lang_index [825]\n",
            "2500\n",
            "low_score_index {985: 'en', 986: 'en', 1509: 'en', 1849: 'en', 2360: 'en'}\n",
            "other_lang_index [825, 2438, 2439, 2440, 2441, 2442, 2443, 2444]\n",
            "3000\n",
            "low_score_index {985: 'en', 986: 'en', 1509: 'en', 1849: 'en', 2360: 'en', 2690: 'en'}\n",
            "other_lang_index [825, 2438, 2439, 2440, 2441, 2442, 2443, 2444]\n",
            "3500\n",
            "low_score_index {985: 'en', 986: 'en', 1509: 'en', 1849: 'en', 2360: 'en', 2690: 'en'}\n",
            "other_lang_index [825, 2438, 2439, 2440, 2441, 2442, 2443, 2444]\n",
            "4000\n",
            "low_score_index {985: 'en', 986: 'en', 1509: 'en', 1849: 'en', 2360: 'en', 2690: 'en'}\n",
            "other_lang_index [825, 2438, 2439, 2440, 2441, 2442, 2443, 2444]\n",
            "4500\n",
            "low_score_index {985: 'en', 986: 'en', 1509: 'en', 1849: 'en', 2360: 'en', 2690: 'en'}\n",
            "other_lang_index [825, 2438, 2439, 2440, 2441, 2442, 2443, 2444]\n",
            "5000\n",
            "low_score_index {985: 'en', 986: 'en', 1509: 'en', 1849: 'en', 2360: 'en', 2690: 'en', 4987: 'en'}\n",
            "other_lang_index [825, 2438, 2439, 2440, 2441, 2442, 2443, 2444]\n",
            "5500\n",
            "low_score_index {985: 'en', 986: 'en', 1509: 'en', 1849: 'en', 2360: 'en', 2690: 'en', 4987: 'en'}\n",
            "other_lang_index [825, 2438, 2439, 2440, 2441, 2442, 2443, 2444]\n",
            "6000\n",
            "low_score_index {985: 'en', 986: 'en', 1509: 'en', 1849: 'en', 2360: 'en', 2690: 'en', 4987: 'en'}\n",
            "other_lang_index [825, 2438, 2439, 2440, 2441, 2442, 2443, 2444, 5568]\n",
            "6500\n",
            "low_score_index {985: 'en', 986: 'en', 1509: 'en', 1849: 'en', 2360: 'en', 2690: 'en', 4987: 'en', 6063: 'en', 6129: 'en', 6311: 'en'}\n",
            "other_lang_index [825, 2438, 2439, 2440, 2441, 2442, 2443, 2444, 5568]\n"
          ]
        }
      ]
    },
    {
      "cell_type": "markdown",
      "source": [
        "In the second part below, we try to fetch the mixed language paragraphs(from the low score index) and only retain the English sentences in these. "
      ],
      "metadata": {
        "id": "QQ4QHj8yY5H3"
      }
    },
    {
      "cell_type": "code",
      "source": [
        "import pycld2 as cld2\n",
        "\n",
        "#get the low score indices\n",
        "low_score_indexes=[i for i in low_score_index.keys()]\n",
        "\n",
        "#retain the english sentences in the mixed language texts(low score index) and drop the other non-English sentences\n",
        "for i in low_score_indexes:\n",
        "  print(i)\n",
        "  text_content= fashion_data.iloc[i,4]\n",
        "  _, _, _, detected_language = cld2.detect(text_content,  returnVectors=True)\n",
        "  eng_sentence_list=[]\n",
        "  for inner_tuple in detected_language:\n",
        "      print('Old sentence:', fashion_data.iloc[i,4])\n",
        "      print(inner_tuple)\n",
        "      if inner_tuple[3]=='en':\n",
        "        start_index= inner_tuple[0]\n",
        "        end_index= inner_tuple[0]+inner_tuple[1]\n",
        "        eng_sentence_list.append(text_content[start_index:end_index])\n",
        "        print(eng_sentence_list)\n",
        "  if eng_sentence_list:\n",
        "    fashion_data.iloc[i,4]= ' '.join(eng_sentence_list)\n",
        "    print('New sentence:',fashion_data.iloc[i,4])\n",
        "  else:\n",
        "    print('None of the sentences are in English')\n",
        "    other_lang_index.append(i)\n",
        "  print('\\n')"
      ],
      "metadata": {
        "colab": {
          "base_uri": "https://localhost:8080/"
        },
        "id": "r3bLK-FEPvR1",
        "outputId": "db13718b-72dc-437d-96e6-a5237e04325e"
      },
      "execution_count": 37,
      "outputs": [
        {
          "output_type": "stream",
          "name": "stdout",
          "text": [
            "985\n",
            "Old sentence: Goldfarb, M. I. Gomis, M. Huang, K. Leitzell, E. Lonnoy, J. B. R. Matthews, T. K. Maycock, T. Waterfield, O. Yelekçi, R. Yu and B. Zhou (eds.)]\n",
            "(0, 144, 'Unknown', 'un')\n",
            "None of the sentences are in English\n",
            "\n",
            "\n",
            "986\n",
            "Old sentence: Goldfarb, M. I. Gomis, M. Huang, K. Leitzell, E. Lonnoy, J. B. R. Matthews, T. K. Maycock, T. Waterfield, O. Yelekçi, R. Yu and B. Zhou (eds.)]\n",
            "(0, 144, 'Unknown', 'un')\n",
            "None of the sentences are in English\n",
            "\n",
            "\n",
            "1509\n",
            "Old sentence: Niemelä, M. (2010). Kestävää muotoilua mallintamassa. Tulkitseva käsitetutkimusInterpretative concept research from the viewpoint of craft design]. doctoraldissertation. Helsinki. Finland: University of Art and Design Helsinki\n",
            "(0, 94, 'FINNISH', 'fi')\n",
            "Old sentence: Niemelä, M. (2010). Kestävää muotoilua mallintamassa. Tulkitseva käsitetutkimusInterpretative concept research from the viewpoint of craft design]. doctoraldissertation. Helsinki. Finland: University of Art and Design Helsinki\n",
            "(94, 137, 'ENGLISH', 'en')\n",
            "['concept research from the viewpoint of craft design]. doctoraldissertation. Helsinki. Finland: University of Art and Design Helsinki']\n",
            "New sentence: concept research from the viewpoint of craft design]. doctoraldissertation. Helsinki. Finland: University of Art and Design Helsinki\n",
            "\n",
            "\n",
            "1849\n",
            "Old sentence: [4] M. Caridi, L. Crippa, A. Perego, A. Sianesi, and A. Tumino, “Do virtuality and complexity affect supply chain visibility?” Int. J. Prod. Econ., vol. 127, no. 2, pp. 372-383, 2010\n",
            "(0, 186, 'Unknown', 'un')\n",
            "None of the sentences are in English\n",
            "\n",
            "\n",
            "2360\n",
            "Old sentence: Increase employee engagement in sustainability and pride in C&A for our actions in thisFoster a culture in which everyone contributes to our sustainability goals\n",
            "(0, 161, 'ENGLISH', 'en')\n",
            "['Increase employee engagement in sustainability and pride in C&A for our actions in thisFoster a culture in which everyone contributes to our sustainability goals']\n",
            "New sentence: Increase employee engagement in sustainability and pride in C&A for our actions in thisFoster a culture in which everyone contributes to our sustainability goals\n",
            "\n",
            "\n",
            "2690\n",
            "Old sentence: Affirmation for Sustainable Clothing Consumption Alternatives. Sustainable Development, vol. 24, n. 1, pp. 18-Bardin, L. Análise de conteúdo. Ed. rev. e actual. Lisboa: Edições 70, 2010\n",
            "(0, 189, 'ENGLISH', 'en')\n",
            "['Affirmation for Sustainable Clothing Consumption Alternatives. Sustainable Development, vol. 24, n. 1, pp. 18-Bardin, L. Análise de conteúdo. Ed. rev. e actual. Lisboa: Edições 70, 2010']\n",
            "New sentence: Affirmation for Sustainable Clothing Consumption Alternatives. Sustainable Development, vol. 24, n. 1, pp. 18-Bardin, L. Análise de conteúdo. Ed. rev. e actual. Lisboa: Edições 70, 2010\n",
            "\n",
            "\n",
            "4987\n",
            "Old sentence: “Our values are for life, not just for the you through a quick fix, but you’re going “We say that our values are for life, not a quick fix, but you’re going to have to live\n",
            "(0, 180, 'ENGLISH', 'en')\n",
            "['“Our values are for life, not just for the you through a quick fix, but you’re going “We say that our values are for life, not a quick fix, but you’re going to have to live']\n",
            "New sentence: “Our values are for life, not just for the you through a quick fix, but you’re going “We say that our values are for life, not a quick fix, but you’re going to have to live\n",
            "\n",
            "\n",
            "6063\n",
            "Old sentence: Yamoah, F. A., & Acquaye, A. (2019). Unravelling the Attitude-Behaviour Gap Paradox for Wang, H., Liu, H., Kim, S. J., & Kim, K. H. (2019). Sustainable fashion index model and its Widloecher, P., (2010). Luxe et developpement durable: Je t'aime, moi non plus? Luxefrancais.  \n",
            "(0, 275, 'ENGLISH', 'en')\n",
            "[\"Yamoah, F. A., & Acquaye, A. (2019). Unravelling the Attitude-Behaviour Gap Paradox for Wang, H., Liu, H., Kim, S. J., & Kim, K. H. (2019). Sustainable fashion index model and its Widloecher, P., (2010). Luxe et developpement durable: Je t'aime, moi non plus? Luxefrancais.  \"]\n",
            "New sentence: Yamoah, F. A., & Acquaye, A. (2019). Unravelling the Attitude-Behaviour Gap Paradox for Wang, H., Liu, H., Kim, S. J., & Kim, K. H. (2019). Sustainable fashion index model and its Widloecher, P., (2010). Luxe et developpement durable: Je t'aime, moi non plus? Luxefrancais.  \n",
            "\n",
            "\n",
            "6129\n",
            "Old sentence: Hennigs, N., Wiedmann, K., Behrens, S. and Klarmann, C. (2013), “Unleashing the power of luxury: Antecedents of luxury brand perception and effects on luxury brand strength”, Journal of Brand Hennigs, N., Wiedmann, K., Klarmann, C., Strehlau, S., Godey, B., Pederzoli, D., Neulinger, A., Kartik, D., Aiello, G., Donvito, R., Taro, K., Taborecka-Petrovicova, J., Santos, C.R., Jung, J. and Oh, H. (2012), Henninger, C.E., Alevizou, P.J. and Oates, C.J. (2016), “What is sustainable fashion?”, Journal of Fashion Marketing and Management, Vol. 20 No. 4, pp. 400-416\n",
            "(0, 251, 'ENGLISH', 'en')\n",
            "['Hennigs, N., Wiedmann, K., Behrens, S. and Klarmann, C. (2013), “Unleashing the power of luxury: Antecedents of luxury brand perception and effects on luxury brand strength”, Journal of Brand Hennigs, N., Wiedmann, K., Klarmann, C., Strehlau, S., Gode']\n",
            "Old sentence: Hennigs, N., Wiedmann, K., Behrens, S. and Klarmann, C. (2013), “Unleashing the power of luxury: Antecedents of luxury brand perception and effects on luxury brand strength”, Journal of Brand Hennigs, N., Wiedmann, K., Klarmann, C., Strehlau, S., Godey, B., Pederzoli, D., Neulinger, A., Kartik, D., Aiello, G., Donvito, R., Taro, K., Taborecka-Petrovicova, J., Santos, C.R., Jung, J. and Oh, H. (2012), Henninger, C.E., Alevizou, P.J. and Oates, C.J. (2016), “What is sustainable fashion?”, Journal of Fashion Marketing and Management, Vol. 20 No. 4, pp. 400-416\n",
            "(251, 189, 'Unknown', 'un')\n",
            "Old sentence: Hennigs, N., Wiedmann, K., Behrens, S. and Klarmann, C. (2013), “Unleashing the power of luxury: Antecedents of luxury brand perception and effects on luxury brand strength”, Journal of Brand Hennigs, N., Wiedmann, K., Klarmann, C., Strehlau, S., Godey, B., Pederzoli, D., Neulinger, A., Kartik, D., Aiello, G., Donvito, R., Taro, K., Taborecka-Petrovicova, J., Santos, C.R., Jung, J. and Oh, H. (2012), Henninger, C.E., Alevizou, P.J. and Oates, C.J. (2016), “What is sustainable fashion?”, Journal of Fashion Marketing and Management, Vol. 20 No. 4, pp. 400-416\n",
            "(440, 131, 'ENGLISH', 'en')\n",
            "['Hennigs, N., Wiedmann, K., Behrens, S. and Klarmann, C. (2013), “Unleashing the power of luxury: Antecedents of luxury brand perception and effects on luxury brand strength”, Journal of Brand Hennigs, N., Wiedmann, K., Klarmann, C., Strehlau, S., Gode', 'Oates, C.J. (2016), “What is sustainable fashion?”, Journal of Fashion Marketing and Management, Vol. 20 No. 4, pp. 400-416']\n",
            "New sentence: Hennigs, N., Wiedmann, K., Behrens, S. and Klarmann, C. (2013), “Unleashing the power of luxury: Antecedents of luxury brand perception and effects on luxury brand strength”, Journal of Brand Hennigs, N., Wiedmann, K., Klarmann, C., Strehlau, S., Gode Oates, C.J. (2016), “What is sustainable fashion?”, Journal of Fashion Marketing and Management, Vol. 20 No. 4, pp. 400-416\n",
            "\n",
            "\n",
            "6311\n",
            "Old sentence: Los Angeles Times. (2011). Online shopping: better for the Nunnally, J. C., & Bernstein, I. H. (1994). The assessment Perugini, M., & Bagozzi, R. P. (2001). The role of desires Pittayachawan, S., Abareshi, A., Kam, B., & Teo, L. (2014)\n",
            "(0, 118, 'ENGLISH', 'en')\n",
            "['Los Angeles Times. (2011). Online shopping: better for the Nunnally, J. C., & Bernstein, I. H. (1994). The assessment ']\n",
            "Old sentence: Los Angeles Times. (2011). Online shopping: better for the Nunnally, J. C., & Bernstein, I. H. (1994). The assessment Perugini, M., & Bagozzi, R. P. (2001). The role of desires Pittayachawan, S., Abareshi, A., Kam, B., & Teo, L. (2014)\n",
            "(118, 117, 'Unknown', 'un')\n",
            "New sentence: Los Angeles Times. (2011). Online shopping: better for the Nunnally, J. C., & Bernstein, I. H. (1994). The assessment \n",
            "\n",
            "\n"
          ]
        },
        {
          "output_type": "stream",
          "name": "stderr",
          "text": [
            "/usr/local/lib/python3.7/dist-packages/pandas/core/indexing.py:1817: SettingWithCopyWarning: \n",
            "A value is trying to be set on a copy of a slice from a DataFrame.\n",
            "Try using .loc[row_indexer,col_indexer] = value instead\n",
            "\n",
            "See the caveats in the documentation: https://pandas.pydata.org/pandas-docs/stable/user_guide/indexing.html#returning-a-view-versus-a-copy\n",
            "  self._setitem_single_column(loc, value, pi)\n"
          ]
        }
      ]
    },
    {
      "cell_type": "code",
      "source": [
        "print(other_lang_index)\n",
        "#peviously-[825, 2438, 2439, 2440, 2441, 2442, 2443, 2444, 5568]\n",
        "#now-[825, 2438, 2439, 2440, 2441, 2442, 2443, 2444, 5568, 985, 986, 1849]"
      ],
      "metadata": {
        "colab": {
          "base_uri": "https://localhost:8080/"
        },
        "id": "gdzSWBNXZSY1",
        "outputId": "e7eed02b-a986-4e14-dcfe-4fd4e46e625e"
      },
      "execution_count": 38,
      "outputs": [
        {
          "output_type": "stream",
          "name": "stdout",
          "text": [
            "[825, 2438, 2439, 2440, 2441, 2442, 2443, 2444, 5568, 985, 986, 1849]\n"
          ]
        }
      ]
    }
  ]
}